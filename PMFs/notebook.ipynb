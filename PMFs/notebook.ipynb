{
 "cells": [
  {
   "cell_type": "code",
   "execution_count": 13,
   "metadata": {},
   "outputs": [
    {
     "name": "stdout",
     "output_type": "stream",
     "text": [
      "637\n",
      "694\n",
      "509\n",
      "515\n",
      "628\n",
      "637\n",
      "541\n",
      "546\n"
     ]
    }
   ],
   "source": [
    "import mdtraj as md\n",
    "import itertools, math\n",
    "import matplotlib\n",
    "%matplotlib inline\n",
    "from matplotlib import pyplot as plt\n",
    "import numpy as np\n",
    "\n",
    "names = ['QPM1_ACN_K','QPM1_ACN_Na','QPM1_H2O_K','QPM1_H20_Na','QPM3_ACN_K','QPM3_ACN_Na','QPM3_H2O_K','QPM3_H20_Na']\n",
    "kB = 1.38064852*10**-23\n",
    "T = 300\n",
    "ion_names = ['K','NA']\n",
    "name_count = 0\n",
    "for macrocycle in ['0','1']:\n",
    "    for solvent in ['a','w']:\n",
    "        for x,ion in enumerate(['k','n']):\n",
    "            prefix = f'{macrocycle}_{solvent}_{ion}'\n",
    "            traj = md.load(f'{prefix}.trr',top=f'{prefix}.gro')\n",
    "            carbonyl_o_indices = [a.index for a in traj.topology.atoms if a.name == 'O'][:6]\n",
    "            ion_indices = [a.index for a in traj.topology.atoms if a.name == ion_names[x]]\n",
    "            pairs = itertools.product(carbonyl_o_indices, ion_indices)\n",
    "            ion_O_distances = np.concatenate(md.compute_distances(traj, pairs))\n",
    "            counts, distances = np.histogram(ion_O_distances, 1000)\n",
    "            counts = [x+1 for x in counts]\n",
    "            pmf = [-kB*T*math.log(counts[i]) + kB*T*2*distances[i] for i in range(len(counts))]\n",
    "            ndx = min(range(len(distances)), key=lambda i: abs(distances[i]-2.0))\n",
    "            print(ndx)\n",
    "            pmf = [x - pmf[ndx] for x in pmf]\n",
    "            plt.figure(2, figsize=(10,5))\n",
    "            if solvent == 'w':\n",
    "                plt.plot(distances[1:],pmf,label=names[name_count], linestyle='dotted')\n",
    "            else:\n",
    "                plt.plot(distances[1:],pmf,label=names[name_count])\n",
    "            name_count += 1\n",
    "\n",
    "plt.xlim(0.15,2.0)\n",
    "plt.ylabel('PMF (kT)')\n",
    "plt.xlabel('Distance of Ion to Macrocycle Center (nm)')\n",
    "plt.title('PMFs Comparing Solvent, Cation, and Macrocycle Substituents')\n",
    "plt.legend()\n",
    "plt.tight_layout()\n",
    "plt.savefig('pmf.pdf')\n",
    "plt.close()"
   ]
  },
  {
   "cell_type": "code",
   "execution_count": 1,
   "metadata": {},
   "outputs": [
    {
     "data": {
      "text/plain": [
       "2"
      ]
     },
     "execution_count": 1,
     "metadata": {},
     "output_type": "execute_result"
    }
   ],
   "source": [
    "a = [0,1,2,3,4]\n",
    "a.index(2)"
   ]
  },
  {
   "cell_type": "code",
   "execution_count": null,
   "metadata": {},
   "outputs": [],
   "source": []
  }
 ],
 "metadata": {
  "kernelspec": {
   "display_name": "Python 3",
   "language": "python",
   "name": "python3"
  },
  "language_info": {
   "codemirror_mode": {
    "name": "ipython",
    "version": 3
   },
   "file_extension": ".py",
   "mimetype": "text/x-python",
   "name": "python",
   "nbconvert_exporter": "python",
   "pygments_lexer": "ipython3",
   "version": "3.8.2"
  }
 },
 "nbformat": 4,
 "nbformat_minor": 4
}
